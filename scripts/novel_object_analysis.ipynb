{
 "cells": [
  {
   "cell_type": "markdown",
   "metadata": {},
   "source": [
    "# Import library"
   ]
  },
  {
   "cell_type": "code",
   "execution_count": 67,
   "metadata": {},
   "outputs": [],
   "source": [
    "import os\n",
    "import sys\n",
    "\n",
    "# add current directory to system path\n",
    "sys.path.insert(0, os.getcwd())\n",
    "from pathlib import Path\n",
    "\n",
    "from IPython.display import display\n",
    "import numpy as np\n",
    "import pandas as pd\n",
    "\n",
    "\n",
    "from pyDLCbehavior import glob_files, NovelObjectRecognitionAnalysis\n"
   ]
  },
  {
   "cell_type": "markdown",
   "metadata": {},
   "source": [
    "# Setting the data directory"
   ]
  },
  {
   "cell_type": "code",
   "execution_count": 133,
   "metadata": {},
   "outputs": [
    {
     "name": "stdout",
     "output_type": "stream",
     "text": [
      "[PosixPath('NOR/00301_subset1DLC_resnet50_Colab_200204Feb4shuffle1_781000.csv'), PosixPath('NOR/00301_subset2DLC_resnet50_Colab_200204Feb4shuffle1_781000.csv')]\n",
      "[PosixPath('NOR/00301_subset2DLC_resnet50_Colab_200204Feb4shuffle1_781000includingmetadata.pickle'), PosixPath('NOR/00301_subset1DLC_resnet50_Colab_200204Feb4shuffle1_781000includingmetadata.pickle')]\n",
      "None\n"
     ]
    }
   ],
   "source": [
    "HOMEDIR = \"NOR\"\n",
    "files_dict = glob_files(HOMEDIR)\n",
    "\n",
    "csv_list = files_dict.get(\".csv\")\n",
    "pkl_list = files_dict.get(\".pickle\")\n",
    "video_list = files_dict.get(\".avi\")\n"
   ]
  },
  {
   "cell_type": "markdown",
   "metadata": {},
   "source": [
    "# Run"
   ]
  },
  {
   "cell_type": "code",
   "execution_count": null,
   "metadata": {},
   "outputs": [],
   "source": [
    "# example workflow\n",
    "def workflow(nor: NovelObjectRecognitionAnalysis) -> None:\n",
    "    # select object\n",
    "    nor.select_objects(num_of_objects=2)\n",
    "\n",
    "    # [OPTION] add object manually\n",
    "    # nor.add_object(Roi(x = 200, y = 50))\n",
    "    # nor.add_object(Roi(x = 50, y = 300))\n",
    "    nor.analyze()\n",
    "\n",
    "    nor.plot_trajectory()\n",
    "    nor.plot_filter_scatter()\n",
    "    nor.plot_heatmap()\n",
    "\n",
    "    nor.to_pickle()\n",
    "\n",
    "\n",
    "nor_list = []\n",
    "for csv, pkl, video in zip(csv_list, pkl_list, video_list):\n",
    "    nor = NovelObjectRecognitionAnalysis(csv, pkl, video)\n",
    "    workflow(nor)\n",
    "    nor_list.append(nor)\n"
   ]
  },
  {
   "cell_type": "markdown",
   "metadata": {},
   "source": [
    "# Pd DataFrame"
   ]
  },
  {
   "cell_type": "code",
   "execution_count": null,
   "metadata": {},
   "outputs": [],
   "source": [
    "\n",
    "discriminate_df = pd.concat([n.summary_df for n in nor_list], axis = 0)\n",
    "discriminate_df.filename = discriminate_df.filename.apply(lambda x: x.split(\"DLC\")[0])\n",
    "display(discriminate_df)\n"
   ]
  },
  {
   "cell_type": "markdown",
   "metadata": {},
   "source": [
    "# Total distance and Speed "
   ]
  },
  {
   "cell_type": "code",
   "execution_count": null,
   "metadata": {},
   "outputs": [],
   "source": [
    "linkpath = Path(r'D:\\Behavior\\Exp1\\Exp1.R1\\Data\\Exp1_1_2020Jan_NOR\\200211_Exp_1_1_2_NOR\\Test2h\\Exp1.R1_1_2nd_NOR_id_food.csv')\n",
    "link_df = pd.read_csv(linkpath, header = 0)\n",
    "total = pd.merge(link_df, discriminate_df, on = \"filename\")\n",
    "total"
   ]
  },
  {
   "cell_type": "markdown",
   "metadata": {},
   "source": [
    "#  DI column which depends on Zone"
   ]
  },
  {
   "cell_type": "code",
   "execution_count": null,
   "metadata": {},
   "outputs": [],
   "source": [
    "total['DI']= total['Discrimination_index_Zone1_to_Zone2'].where(total['novel'] == 'Zone1', total['Discrimination_index_Zone2_to_Zone1'])\n"
   ]
  }
 ],
 "metadata": {
  "kernelspec": {
   "display_name": "Python 3",
   "language": "python",
   "name": "python3"
  },
  "language_info": {
   "codemirror_mode": {
    "name": "ipython",
    "version": 3
   },
   "file_extension": ".py",
   "mimetype": "text/x-python",
   "name": "python",
   "nbconvert_exporter": "python",
   "pygments_lexer": "ipython3",
   "version": "3.6.13"
  }
 },
 "nbformat": 4,
 "nbformat_minor": 4
}
